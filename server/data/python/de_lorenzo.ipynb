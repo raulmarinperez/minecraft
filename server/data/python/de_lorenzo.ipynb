{
 "cells": [
  {
   "cell_type": "code",
   "execution_count": null,
   "metadata": {},
   "outputs": [],
   "source": [
    "!pip install mcthings_extra --upgrade"
   ]
  },
  {
   "cell_type": "code",
   "execution_count": null,
   "metadata": {},
   "outputs": [],
   "source": [
    "import mcpi.block\n",
    "from mcpi.vec3 import Vec3\n",
    "\n",
    "# Import Scene and Server\n",
    "from mcthings.scene import Scene\n",
    "from mcthings.server import Server\n",
    "\n",
    "# Import the Things used in the Scene\n",
    "from mcthings.house import House\n",
    "from mcthings.sphere import SphereHollow\n",
    "from mcthings_extra.spiral import Spiral\n",
    "from mcthings_extra.stairs_snail import StairsSnail\n"
   ]
  },
  {
   "cell_type": "code",
   "execution_count": null,
   "metadata": {},
   "outputs": [],
   "source": [
    "# Connect to the Minecraft server and send a testing message to chat\n",
    "\n",
    "MC_SEVER_HOST = \"minecraft\"\n",
    "MC_SEVER_PORT = 4711\n",
    "\n",
    "server = Server(MC_SEVER_HOST, MC_SEVER_PORT)\n",
    "\n",
    "server.mc.postToChat(\"Building a Scene with De Lorenzo Things\")"
   ]
  },
  {
   "cell_type": "code",
   "execution_count": null,
   "metadata": {},
   "outputs": [],
   "source": [
    "# Get the initial position to create the scene\n",
    "\n",
    "BUILDER_NAME = \"ElasticExplorer\"\n",
    "\n",
    "pos = server.mc.entity.getTilePos(server.mc.getPlayerEntityId(BUILDER_NAME))\n",
    "pos.x += 5\n",
    "\n",
    "server.mc.postToChat(\"Building the Scene at %s %s %s \" % (\n",
    "    pos.x, pos.y, pos.z))"
   ]
  },
  {
   "cell_type": "code",
   "execution_count": null,
   "metadata": {},
   "outputs": [],
   "source": [
    "house = House(pos)\n",
    "house.build()\n",
    "p = house.end_position\n",
    "sphere = SphereHollow(Vec3(p.x, pos.y, p.z - 20))\n",
    "sphere.radius = 5\n",
    "sphere.build()\n",
    "spiral = Spiral(Vec3(p.x, pos.y, p.z + 30))\n",
    "spiral.build()\n",
    "StairsSnail(Vec3(p.x, pos.y, p.z + 5)).build()"
   ]
  },
  {
   "cell_type": "markdown",
   "metadata": {},
   "source": [
    "![Final Scene](img/de_lorenzo.png)"
   ]
  }
 ],
 "metadata": {
  "kernelspec": {
   "display_name": "Python 3",
   "language": "python",
   "name": "python3"
  },
  "language_info": {
   "codemirror_mode": {
    "name": "ipython",
    "version": 3
   },
   "file_extension": ".py",
   "mimetype": "text/x-python",
   "name": "python",
   "nbconvert_exporter": "python",
   "pygments_lexer": "ipython3",
   "version": "3.7.6"
  }
 },
 "nbformat": 4,
 "nbformat_minor": 4
}
