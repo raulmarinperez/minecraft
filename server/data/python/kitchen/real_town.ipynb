{
 "cells": [
  {
   "cell_type": "markdown",
   "metadata": {},
   "source": [
    "Un poblado real\n",
    "==\n",
    "\n",
    "En este notebook os vamos a mostrar como construir un poblado real con casas de diferentes tamaños, un río, árboles, caminos y otros elementos que se nos vayan ocurriendo. \n",
    "\n",
    "Iremos paso a paso para intentar que sirva para aprender como usar Python con Minecraft."
   ]
  },
  {
   "cell_type": "markdown",
   "metadata": {},
   "source": [
    "Lo primero que hacemos es conectarnos con el servidor de Minecraft para poderle enviar comandos"
   ]
  },
  {
   "cell_type": "code",
   "execution_count": 1,
   "metadata": {},
   "outputs": [
    {
     "name": "stdout",
     "output_type": "stream",
     "text": [
      "Collecting mcthings\n",
      "  Downloading mcthings-0.1.0-py3-none-any.whl (9.4 kB)\n",
      "Requirement already satisfied: mcpi in /opt/conda/lib/python3.7/site-packages (from mcthings) (1.1.0)\n",
      "Installing collected packages: mcthings\n",
      "Successfully installed mcthings-0.1.0\n"
     ]
    }
   ],
   "source": [
    "!pip install mcthings"
   ]
  },
  {
   "cell_type": "code",
   "execution_count": 2,
   "metadata": {},
   "outputs": [],
   "source": [
    "from mcpi import block\n",
    "from mcpi.minecraft import Minecraft\n",
    "from mcthings.town import Town\n",
    "\n",
    "# Nombre del jugador que va a construir las cosas\n",
    "BUILDER_NAME = \"ElasticExplorer\"\n",
    "\n",
    "# Datos del servidor de Minecraft\n",
    "MC_SEVER_HOST = \"minecraft\"\n",
    "MC_SEVER_PORT = 4711\n",
    "\n",
    "# Nos conectamos al servidor de Minecraft\n",
    "mc = Minecraft.create(address=MC_SEVER_HOST, port=MC_SEVER_PORT)"
   ]
  },
  {
   "cell_type": "markdown",
   "metadata": {},
   "source": [
    "Una vez que nos hemos conectado con el servidor podemos comenzar a crear cosas en él. Para estar seguro de que la conexión está bien, vamos a enviar un mensaje al chat de Minecraft."
   ]
  },
  {
   "cell_type": "code",
   "execution_count": 3,
   "metadata": {},
   "outputs": [],
   "source": [
    "mc.postToChat(\"Preparando la construccion de una aldea desde Minecraft\")"
   ]
  },
  {
   "cell_type": "markdown",
   "metadata": {},
   "source": [
    "Si todo ha ido bien, deberías de ver la pantalla de Minecraft:\n",
    "![Hola en Minecraft](img/hola_mc.png \"Hola\")"
   ]
  },
  {
   "cell_type": "markdown",
   "metadata": {},
   "source": [
    "Lo siguiente que vamos a hacer es construir unas casas sencillas. Para ello, vamos a utilizar el ejemplo que ya tenemos en [el taller de las casas](../8_town.ipynb \"casas\")"
   ]
  },
  {
   "cell_type": "code",
   "execution_count": 5,
   "metadata": {},
   "outputs": [],
   "source": [
    "# Tiene que ser mayor que 3\n",
    "HOUSE_HEIGHT = 3\n",
    "# Tiene que ser mayor que 4\n",
    "HOUSE_WIDTH = 5\n",
    "# Número de casas en la aldea\n",
    "HOUSES_NUMBER = 3\n",
    "# Bloque de construcción\n",
    "HOUSE_BLOCK = block.WOOD\n",
    "\n",
    "# Si queremos borrar la aldea, sin mover al jugador en Minecraft, \n",
    "# volver a ejecutar esta celda poniendo BORRAR=True\n",
    "CLEAN = False\n",
    "if CLEAN:\n",
    "    HOUSE_BLOCK = block.AIR\n",
    "\n",
    "# Posición desde donde construiremos la aldea\n",
    "p = mc.entity.getTilePos(mc.getPlayerEntityId(BUILDER_NAME))\n",
    "\n",
    "# Hacemos la aldea delante del jugador\n",
    "init_x = p.x + HOUSE_WIDTH/1.5\n",
    "init_y = p.y\n",
    "init_z = p.z - HOUSE_WIDTH/2\n",
    "\n",
    "WIDTH = HOUSE_WIDTH - 1\n",
    "HEIGHT = HOUSE_HEIGHT - 1\n",
    "\n",
    "BORRAR=False\n",
    "if BORRAR:\n",
    "    HOUSE_BLOCK = block.AIR\n",
    "\n",
    "# Repetimos por cada casa modificando en que posición construimos\n",
    "for i in range(0, HOUSES_NUMBER):\n",
    "    # Las casas están separadas entre si HOUSE_HEIGHT\n",
    "\n",
    "    init_z = init_z + (HOUSE_WIDTH + HOUSE_HEIGHT)\n",
    "\n",
    "    # Construimos el bloque principal\n",
    "    mc.setBlocks(init_x,         init_y,          init_z,\n",
    "                 init_x + WIDTH, init_y + HEIGHT, init_z + WIDTH,\n",
    "                 HOUSE_BLOCK)\n",
    "\n",
    "    # Y lo rellenamos de aire para que pueda ser una casa\n",
    "    # El grosor de las paredes podemos regularlo\n",
    "    WALL_WIDTH = 1\n",
    "    mc.setBlocks(init_x + WALL_WIDTH,         init_y,                       init_z + WALL_WIDTH,\n",
    "                 init_x + WIDTH - WALL_WIDTH, init_y + HEIGHT - WALL_WIDTH, init_z + WIDTH - WALL_WIDTH,\n",
    "                 block.AIR)\n",
    "\n",
    "    # Y le hacemos una puerta\n",
    "    DOOR_SIZE = 1\n",
    "    mc.setBlocks(init_x,     init_y,             init_z + WALL_WIDTH,\n",
    "                 init_x + 1, init_y + DOOR_SIZE, init_z + DOOR_SIZE,\n",
    "                 block.AIR)"
   ]
  },
  {
   "cell_type": "markdown",
   "metadata": {},
   "source": [
    "El resultado debería de ser algo como ![estas casas](img/casas.png \"Casas\")"
   ]
  },
  {
   "cell_type": "markdown",
   "metadata": {},
   "source": [
    "Estamos creando una biblioteca para facilitar el uso de elementos (things) como las aldeas. Para construir una aldea basta con:"
   ]
  },
  {
   "cell_type": "code",
   "execution_count": 8,
   "metadata": {},
   "outputs": [],
   "source": [
    "p = mc.entity.getTilePos(mc.getPlayerEntityId(BUILDER_NAME))\n",
    "Town(block.BRICK_BLOCK, p, mc).build()"
   ]
  },
  {
   "cell_type": "markdown",
   "metadata": {},
   "source": [
    "El resultado es ![estas casas](img/casas_things.png \"Casas (things)\")"
   ]
  }
 ],
 "metadata": {
  "kernelspec": {
   "display_name": "Python 3",
   "language": "python",
   "name": "python3"
  },
  "language_info": {
   "codemirror_mode": {
    "name": "ipython",
    "version": 3
   },
   "file_extension": ".py",
   "mimetype": "text/x-python",
   "name": "python",
   "nbconvert_exporter": "python",
   "pygments_lexer": "ipython3",
   "version": "3.7.6"
  }
 },
 "nbformat": 4,
 "nbformat_minor": 4
}
